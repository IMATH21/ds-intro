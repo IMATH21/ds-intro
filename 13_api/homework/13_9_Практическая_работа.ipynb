{
 "cells": [
  {
   "cell_type": "markdown",
   "metadata": {
    "id": "zUqy3u0mOqRA"
   },
   "source": [
    "# Получение данных с помощью API. Домашнее задание\n",
    "\n",
    "В домашнем задании есть обязательные и дополнительные задачи.\n",
    "\n",
    "*Обязательные задачи* нужно сделать, чтобы проверить, что вы действительно усвоили материал модуля. Они обязательны к загрузке на проверку преподавателю.\n",
    "\n",
    "*Дополнительные задачи* для тех, кто чувствует, что нужно ещё немного потренироваться работе с Git. Вы также можете загрузить их на проверку преподавателю и получить по ним обратную связь.\n",
    "\n",
    "Удачи!"
   ]
  },
  {
   "cell_type": "markdown",
   "metadata": {
    "id": "5b2c9q-uRFgE"
   },
   "source": [
    "\n",
    "\n",
    "---\n",
    "\n",
    "\n",
    "\n",
    "---\n",
    "\n"
   ]
  },
  {
   "cell_type": "markdown",
   "metadata": {
    "id": "9YruChoFPlTH"
   },
   "source": [
    "**Цели домашнего задания:**\n",
    "1. Научиться выполнять HTTP-запросы с использованием библиотеки Requests.\n",
    "2. Научиться сохранять данные из датафрейма в файлы xlsx и csv.\n",
    "3. Научиться работать c Git и сохранять результаты своей работы в GitLab.\n"
   ]
  },
  {
   "cell_type": "markdown",
   "metadata": {
    "id": "s0ln3tQ_QZK4"
   },
   "source": [
    "**Что входит в домашнее задание:**\n",
    "1. *Обязательные задачи*:\n",
    "\n",
    "- две задачи на работу с Git,\n",
    "- две задачи на работу с бибилотекой Requests,\n",
    "- одна задача на сохранение данных из датафрейма в файлы.\n",
    "\n",
    "2. *Дополнительные задачи*:\n",
    "\n",
    "- две задачи на закрепление работы с запросами,\n",
    "- одна задача на закрепление работы с Git.\n"
   ]
  },
  {
   "cell_type": "markdown",
   "metadata": {
    "id": "QLCrcUsFLTVr"
   },
   "source": [
    "**Критерии оценки:**\n",
    "- программа выдаёт верный ответ на заданном наборе данных;\n",
    "- код читабелен: переменным даны осмысленные названия, отступы и правила расстановки пробелов соблюдены;\n",
    "- репозиторий проекта содержит осмысленные коммиты, содержащие конкретные реализованные фичи, ветки названы согласно назначению, лишние файлы не хранятся в репозитории;\n",
    "- в репозитории проекта соблюдена иерархия директорий согласно списку модулей и содержащихся в них уроках;\n",
    "- репозиторий проекта содержит файлы с данными, полученными в результате выполнения домашнего задания.\n",
    "\n"
   ]
  },
  {
   "cell_type": "markdown",
   "metadata": {
    "id": "UKH0UuMA7pyF"
   },
   "source": [
    "**Как отправить задание на проверку**\n",
    "\n",
    "Сдайте домашние работы этого модуля через систему контроля версий Git сервиса Skillbox Gitlab. После загрузки работы на проверку необходимо сообщить об этом в LMS своему проверяющему преподавателю."
   ]
  },
  {
   "cell_type": "markdown",
   "metadata": {
    "id": "hYa6ZRVRRHbE"
   },
   "source": [
    "\n",
    "\n",
    "---\n",
    "\n",
    "\n",
    "---\n",
    "\n"
   ]
  },
  {
   "cell_type": "markdown",
   "metadata": {
    "id": "UgcrtNvYQ_01"
   },
   "source": [
    "**Обязательные задачи**"
   ]
  },
  {
   "cell_type": "markdown",
   "metadata": {
    "id": "p0t9GY6BOjpL"
   },
   "source": [
    "Вы продолжите работать с iTunes Search API, чтобы познакомиться поближе с [Луи Армстронгом](https://ru.wikipedia.org/wiki/%D0%90%D1%80%D0%BC%D1%81%D1%82%D1%80%D0%BE%D0%BD%D0%B3,_%D0%9B%D1%83%D0%B8). Для этого вам нужно будет изучить документацию к [iTunes Search API](https://developer.apple.com/library/archive/documentation/AudioVideo/Conceptual/iTuneSearchAPI/Searching.html#//apple_ref/doc/uid/TP40017632-CH5-SW1) и выполнить задания.\n",
    "\n",
    "Репозиторий проекта располагается по адресу https://gitlab.skillbox.ru/LOGIN/ds-intro, где LOGIN — ваш логин в системе."
   ]
  },
  {
   "cell_type": "code",
   "execution_count": 1,
   "metadata": {
    "id": "A_cq5_c0QVlL"
   },
   "outputs": [],
   "source": [
    "# Импортируйте необходимые библиотеки\n",
    "import requests\n",
    "import pandas as pd"
   ]
  },
  {
   "cell_type": "markdown",
   "metadata": {
    "id": "683m2WjxQVlN"
   },
   "source": [
    "***Задача 1***\n",
    "\n",
    "1. С помощью `git clone` по SSH скопируйте на свой компьютер репозиторий `ds-intro.git`, если это не было сделано ранее.\n",
    "Если репозиторий уже скачан, обновите его состояние до актуальной версии с помощью `git pull`.\n",
    "\n",
    "2. Перейдите в директорию `13_api/homework` и откройте ноутбук для выполнения домашнего задания.\n",
    "\n",
    "3. Создайте ветку `homework_13` с помощью `git branch` и перейдите в неё. Далее работа должна продолжаться в новой ветке.\n",
    "\n",
    "**_Советы и рекомендации_**\n",
    "\n",
    "В дальнейшем, когда вы будете создавать новые ветки и работать с Git в этом и других модулях, придерживайтесь шаблона наименования веток:\n",
    "- `homework_module` для домашнего задания к модулю с номером `module`;\n",
    "- `practice_module` для практических заданий к модулю с номером `module`."
   ]
  },
  {
   "cell_type": "markdown",
   "metadata": {
    "id": "kr8Q_RUzOjpM"
   },
   "source": [
    "**Задача 2**\n",
    "\n",
    "1. Выполните GET-запрос https://itunes.apple.com/lookup?id=518462 и распечатайте ответ в формате json."
   ]
  },
  {
   "cell_type": "code",
   "execution_count": 2,
   "metadata": {
    "ExecuteTime": {
     "end_time": "2021-10-24T10:55:47.101496Z",
     "start_time": "2021-10-24T10:55:47.098939Z"
    },
    "id": "hLC8F1acOjpN"
   },
   "outputs": [
    {
     "data": {
      "text/plain": [
       "{'resultCount': 1,\n",
       " 'results': [{'wrapperType': 'artist',\n",
       "   'artistType': 'Artist',\n",
       "   'artistName': 'Louis Armstrong',\n",
       "   'artistLinkUrl': 'https://music.apple.com/us/artist/louis-armstrong/518462?uo=4',\n",
       "   'artistId': 518462,\n",
       "   'amgArtistId': 52456,\n",
       "   'primaryGenreName': 'Jazz',\n",
       "   'primaryGenreId': 11}]}"
      ]
     },
     "execution_count": 2,
     "metadata": {},
     "output_type": "execute_result"
    }
   ],
   "source": [
    "# Ваш код здесь\n",
    "url = 'https://itunes.apple.com/lookup'\n",
    "params = {'id': '518462'}   \n",
    "response = requests.get(url, params=params)\n",
    "response_json = response.json()\n",
    "response_json"
   ]
  },
  {
   "cell_type": "markdown",
   "metadata": {
    "id": "J1YHZdzPQVlR"
   },
   "source": [
    "2. Распечатайте код ответа."
   ]
  },
  {
   "cell_type": "code",
   "execution_count": 3,
   "metadata": {
    "id": "Eto3BcM2QVlR"
   },
   "outputs": [
    {
     "data": {
      "text/plain": [
       "200"
      ]
     },
     "execution_count": 3,
     "metadata": {},
     "output_type": "execute_result"
    }
   ],
   "source": [
    "# Ваш код здесь\n",
    "response.status_code"
   ]
  },
  {
   "cell_type": "markdown",
   "metadata": {
    "id": "LcpYxnZsQVlT"
   },
   "source": [
    "3. Распечатайте строку запроса.\n",
    "\n",
    "    _Подсказка:_ строку запроса можно распечатать с помощью метода `url`."
   ]
  },
  {
   "cell_type": "code",
   "execution_count": 4,
   "metadata": {
    "ExecuteTime": {
     "end_time": "2021-11-15T22:58:07.910280Z",
     "start_time": "2021-11-15T22:58:07.907016Z"
    },
    "id": "HEivops6QVlT"
   },
   "outputs": [
    {
     "data": {
      "text/plain": [
       "'https://itunes.apple.com/lookup?id=518462'"
      ]
     },
     "execution_count": 4,
     "metadata": {},
     "output_type": "execute_result"
    }
   ],
   "source": [
    "# Ваш код здесь\n",
    "response.url"
   ]
  },
  {
   "cell_type": "markdown",
   "metadata": {
    "id": "QxZUUuH_QVlU"
   },
   "source": [
    "4. Сохраните в переменную `amg_artist_id` значение `amgArtistId` полученного ответа и распечатайте его."
   ]
  },
  {
   "cell_type": "code",
   "execution_count": 5,
   "metadata": {
    "ExecuteTime": {
     "end_time": "2021-11-15T23:14:37.737599Z",
     "start_time": "2021-11-15T23:14:37.734887Z"
    },
    "id": "jH9rOE3UQVlU"
   },
   "outputs": [
    {
     "data": {
      "text/plain": [
       "52456"
      ]
     },
     "execution_count": 5,
     "metadata": {},
     "output_type": "execute_result"
    }
   ],
   "source": [
    "# Ваш код здесь\n",
    "amg_artist_id = response_json['results'][0]['amgArtistId']\n",
    "amg_artist_id"
   ]
  },
  {
   "cell_type": "markdown",
   "metadata": {
    "id": "cViBXi62OjpP"
   },
   "source": [
    "***Задача 3***\n",
    "\n",
    "1. Выполните POST-запрос к к ресурсу `lookup`, чтобы найти первые 100 записей, содержащих альбомы для артиста с `amgArtistId`, равного  полученному ранее `amg_artist_id`. Укажите время ожидания запроса 60 секунд и распечатайте ответ в формате json.\n"
   ]
  },
  {
   "cell_type": "code",
   "execution_count": 6,
   "metadata": {
    "ExecuteTime": {
     "end_time": "2021-10-24T10:41:11.069411Z",
     "start_time": "2021-10-24T10:41:11.066371Z"
    },
    "id": "Tx2VYklzOjpQ"
   },
   "outputs": [
    {
     "data": {
      "text/plain": [
       "{'resultCount': 1,\n",
       " 'results': [{'wrapperType': 'artist',\n",
       "   'artistType': 'Artist',\n",
       "   'artistName': 'Louis Armstrong',\n",
       "   'artistLinkUrl': 'https://music.apple.com/us/artist/louis-armstrong/518462?uo=4',\n",
       "   'artistId': 518462,\n",
       "   'amgArtistId': 52456,\n",
       "   'primaryGenreName': 'Jazz',\n",
       "   'primaryGenreId': 11}]}"
      ]
     },
     "execution_count": 6,
     "metadata": {},
     "output_type": "execute_result"
    }
   ],
   "source": [
    "# Ваш код здесь\n",
    "url = 'https://itunes.apple.com/lookup'\n",
    "params = {'amgArtistId': amg_artist_id, 'limit': 100, 'timeout': 60}   \n",
    "response = requests.post(url, data = params)\n",
    "response_json = response.json()\n",
    "response_json"
   ]
  },
  {
   "cell_type": "markdown",
   "metadata": {
    "id": "cylUKYQlQVlW"
   },
   "source": [
    "2. Выведите количество записей в ответе."
   ]
  },
  {
   "cell_type": "code",
   "execution_count": 7,
   "metadata": {
    "id": "rsTsbuGXQVlW"
   },
   "outputs": [
    {
     "data": {
      "text/plain": [
       "1"
      ]
     },
     "execution_count": 7,
     "metadata": {},
     "output_type": "execute_result"
    }
   ],
   "source": [
    "# Ваш код здесь\n",
    "response_json['resultCount']"
   ]
  },
  {
   "cell_type": "markdown",
   "metadata": {
    "id": "5wqZG58CQVlX"
   },
   "source": [
    "3. Посмотрите внимательно на список с записями и обратите внимание, что мы запрашивали 100 альбомов, то есть на одну запись меньше, чем нам показал счётчик.\n",
    "**Ответьте, в чём причина:**\n",
    "Oтносительно вопроса о различии в количестве записей в ответе и запрошенном количестве (100), возможны несколько причин:\n",
    "\n",
    "Ошибки в данных: Некоторые записи могли содержать неверные или неполные данные, что могло привести к их исключению из ответа.\n",
    "\n",
    "Ограничения API: Возможно, API имеет ограничения на количество записей, возвращаемых в одном запросе. В этом случае, API может вернуть меньшее количество записей, чем запрошено.\n",
    "\n",
    "Фильтрация на сервере: Сервер API может проводить фильтрацию данных перед возвратом ответа, и это также может повлиять на точное количество записей в ответе."
   ]
  },
  {
   "cell_type": "markdown",
   "metadata": {
    "id": "m95_sBKnQVlX"
   },
   "source": [
    "***Задача 4***\n",
    "\n",
    "1. С учётом ответа на предыдущий вопрос разделите список на два списка:\n",
    "- `data1` — альбомы с 1 по 30, \n",
    "- `data2` — оставшиеся альбомы. \n",
    "\n",
    "    Распечатайте количество элементов в каждом списке."
   ]
  },
  {
   "cell_type": "code",
   "execution_count": 8,
   "metadata": {
    "id": "HbEGYYySQVlY"
   },
   "outputs": [],
   "source": [
    "# Ваш код здесь\n",
    "# Ваш код здесь\n",
    "import requests\n",
    "import pandas as pd\n",
    "\n",
    "path = 'C:/Users/Hp/ds-intro/13_api/homework/'\n",
    "\n",
    "response = requests.get(\"https://itunes.apple.com/lookup?amgArtistId=52456&entity=album&limit=100\")\n",
    "results_post = response.json()\n",
    "\n",
    "data1 = {'results': results_post['results'][:30]}\n",
    "data2 = {'results': results_post['results'][30:]}"
   ]
  },
  {
   "cell_type": "markdown",
   "metadata": {
    "id": "f6KP2YUgQVlY"
   },
   "source": [
    "2. Создайте датафрейм `df1` на основе списка `data1` и распечатайте его, а затем запишите его на лист `albums` в файл `30_albums.xlsx` в директории проекта `13_api/homework/data`. Не забудьте перед этим создать нужную директорию. \n"
   ]
  },
  {
   "cell_type": "code",
   "execution_count": 9,
   "metadata": {
    "id": "U5SYJKUZQVlZ"
   },
   "outputs": [
    {
     "name": "stdout",
     "output_type": "stream",
     "text": [
      "   wrapperType artistType                                     artistName  \\\n",
      "0       artist     Artist                                Louis Armstrong   \n",
      "1   collection        NaN                                Louis Armstrong   \n",
      "2   collection        NaN              Ella Fitzgerald & Louis Armstrong   \n",
      "3   collection        NaN                                Louis Armstrong   \n",
      "4   collection        NaN                                Louis Armstrong   \n",
      "5   collection        NaN              Ella Fitzgerald & Louis Armstrong   \n",
      "6   collection        NaN                                Louis Armstrong   \n",
      "7   collection        NaN              Ella Fitzgerald & Louis Armstrong   \n",
      "8   collection        NaN                                Louis Armstrong   \n",
      "9   collection        NaN               Louis Armstrong & Duke Ellington   \n",
      "10  collection        NaN              Louis Armstrong and His All-Stars   \n",
      "11  collection        NaN                                Louis Armstrong   \n",
      "12  collection        NaN              Ella Fitzgerald & Louis Armstrong   \n",
      "13  collection        NaN  Louis Armstrong, Tyree Glenn & Tommy Gwaltney   \n",
      "14  collection        NaN              Ella Fitzgerald & Louis Armstrong   \n",
      "15  collection        NaN                                Louis Armstrong   \n",
      "16  collection        NaN               Louis Armstrong & Duke Ellington   \n",
      "17  collection        NaN                                Louis Armstrong   \n",
      "18  collection        NaN                                Louis Armstrong   \n",
      "19  collection        NaN                  Bing Crosby & Louis Armstrong   \n",
      "20  collection        NaN               Louis Armstrong & Oscar Peterson   \n",
      "21  collection        NaN                   Louis Armstrong & Earl Hines   \n",
      "22  collection        NaN                                Louis Armstrong   \n",
      "23  collection        NaN                                Louis Armstrong   \n",
      "24  collection        NaN                                Louis Armstrong   \n",
      "25  collection        NaN                                Louis Armstrong   \n",
      "26  collection        NaN              Louis Armstrong and His All-Stars   \n",
      "27  collection        NaN                                Louis Armstrong   \n",
      "28  collection        NaN                                Louis Armstrong   \n",
      "29  collection        NaN                                Louis Armstrong   \n",
      "\n",
      "                                        artistLinkUrl  artistId  amgArtistId  \\\n",
      "0   https://music.apple.com/us/artist/louis-armstr...    518462        52456   \n",
      "1                                                 NaN    518462        52456   \n",
      "2                                                 NaN     73568         6503   \n",
      "3                                                 NaN    518462        52456   \n",
      "4                                                 NaN    518462        52456   \n",
      "5                                                 NaN     73568         6503   \n",
      "6                                                 NaN    518462        52456   \n",
      "7                                                 NaN     73568         6503   \n",
      "8                                                 NaN    518462        52456   \n",
      "9                                                 NaN    518462        52456   \n",
      "10                                                NaN    518462        52456   \n",
      "11                                                NaN    518462        52456   \n",
      "12                                                NaN     73568         6503   \n",
      "13                                                NaN    518462        52456   \n",
      "14                                                NaN     73568         6503   \n",
      "15                                                NaN    518462        52456   \n",
      "16                                                NaN    518462        52456   \n",
      "17                                                NaN    518462        52456   \n",
      "18                                                NaN    518462        52456   \n",
      "19                                                NaN     25687         3094   \n",
      "20                                                NaN    518462        52456   \n",
      "21                                                NaN    405220         6746   \n",
      "22                                                NaN    518462        52456   \n",
      "23                                                NaN    518462        52456   \n",
      "24                                                NaN    518462        52456   \n",
      "25                                                NaN    518462        52456   \n",
      "26                                                NaN    518462        52456   \n",
      "27                                                NaN    518462        52456   \n",
      "28                                                NaN    518462        52456   \n",
      "29                                                NaN    518462        52456   \n",
      "\n",
      "   primaryGenreName  primaryGenreId collectionType  collectionId  ...  \\\n",
      "0              Jazz            11.0            NaN           NaN  ...   \n",
      "1               Pop             NaN          Album  1.434915e+09  ...   \n",
      "2           Holiday             NaN          Album  1.445667e+09  ...   \n",
      "3              Jazz             NaN          Album  1.938961e+08  ...   \n",
      "4              Jazz             NaN          Album  2.012744e+08  ...   \n",
      "5              Jazz             NaN          Album  1.431067e+09  ...   \n",
      "6              Jazz             NaN          Album  1.425235e+09  ...   \n",
      "7              Jazz             NaN          Album  1.469584e+09  ...   \n",
      "8              Jazz             NaN          Album  1.440787e+09  ...   \n",
      "9              Jazz             NaN          Album  6.965231e+08  ...   \n",
      "10             Jazz             NaN          Album  1.586916e+08  ...   \n",
      "11          Holiday             NaN          Album  1.644157e+09  ...   \n",
      "12             Jazz             NaN          Album  1.454735e+09  ...   \n",
      "13             Jazz             NaN          Album  5.166856e+08  ...   \n",
      "14             Jazz             NaN          Album  1.359340e+09  ...   \n",
      "15             Jazz             NaN          Album  1.440749e+09  ...   \n",
      "16             Jazz             NaN          Album  6.959886e+08  ...   \n",
      "17             Jazz             NaN          Album  1.863089e+08  ...   \n",
      "18             Jazz             NaN          Album  4.770238e+08  ...   \n",
      "19            Vocal             NaN          Album  7.162112e+08  ...   \n",
      "20             Jazz             NaN          Album  1.425262e+09  ...   \n",
      "21             Jazz             NaN          Album  1.940218e+08  ...   \n",
      "22             Jazz             NaN          Album  2.000362e+08  ...   \n",
      "23             Jazz             NaN          Album  1.434925e+09  ...   \n",
      "24             Jazz             NaN          Album  1.710866e+08  ...   \n",
      "25             Jazz             NaN          Album  2.937854e+08  ...   \n",
      "26             Jazz             NaN          Album  1.574075e+08  ...   \n",
      "27             Jazz             NaN          Album  1.573841e+08  ...   \n",
      "28             Jazz             NaN          Album  1.586621e+08  ...   \n",
      "29             Jazz             NaN          Album  2.937854e+08  ...   \n",
      "\n",
      "                                    collectionViewUrl  \\\n",
      "0                                                 NaN   \n",
      "1   https://music.apple.com/us/album/all-time-grea...   \n",
      "2   https://music.apple.com/us/album/ella-louis-ch...   \n",
      "3   https://music.apple.com/us/album/the-essential...   \n",
      "4   https://music.apple.com/us/album/the-best-of-t...   \n",
      "5   https://music.apple.com/us/album/the-best-of-e...   \n",
      "6   https://music.apple.com/us/album/20th-century-...   \n",
      "7   https://music.apple.com/us/album/ella-and-loui...   \n",
      "8   https://music.apple.com/us/album/what-a-wonder...   \n",
      "9   https://music.apple.com/us/album/the-great-sum...   \n",
      "10  https://music.apple.com/us/album/louis-armstro...   \n",
      "11  https://music.apple.com/us/album/louis-wishes-...   \n",
      "12  https://music.apple.com/us/album/ella-louis-fo...   \n",
      "13  https://music.apple.com/us/album/satchmo-at-th...   \n",
      "14  https://music.apple.com/us/album/cheek-to-chee...   \n",
      "15  https://music.apple.com/us/album/disney-songs-...   \n",
      "16  https://music.apple.com/us/album/the-great-sum...   \n",
      "17  https://music.apple.com/us/album/ken-burns-jaz...   \n",
      "18  https://music.apple.com/us/album/the-complete-...   \n",
      "19  https://music.apple.com/us/album/bing-satchmo/...   \n",
      "20  https://music.apple.com/us/album/louis-armstro...   \n",
      "21  https://music.apple.com/us/album/louis-armstro...   \n",
      "22  https://music.apple.com/us/album/satch-blows-t...   \n",
      "23  https://music.apple.com/us/album/the-ultimate-...   \n",
      "24  https://music.apple.com/us/album/the-great-chi...   \n",
      "25  https://music.apple.com/us/album/the-complete-...   \n",
      "26  https://music.apple.com/us/album/ambassador-sa...   \n",
      "27  https://music.apple.com/us/album/super-hits/15...   \n",
      "28  https://music.apple.com/us/album/the-essence-o...   \n",
      "29  https://music.apple.com/us/album/the-complete-...   \n",
      "\n",
      "                                         artworkUrl60  \\\n",
      "0                                                 NaN   \n",
      "1   https://is1-ssl.mzstatic.com/image/thumb/Music...   \n",
      "2   https://is1-ssl.mzstatic.com/image/thumb/Music...   \n",
      "3   https://is1-ssl.mzstatic.com/image/thumb/Music...   \n",
      "4   https://is1-ssl.mzstatic.com/image/thumb/Music...   \n",
      "5   https://is1-ssl.mzstatic.com/image/thumb/Music...   \n",
      "6   https://is1-ssl.mzstatic.com/image/thumb/Music...   \n",
      "7   https://is1-ssl.mzstatic.com/image/thumb/Music...   \n",
      "8   https://is1-ssl.mzstatic.com/image/thumb/Music...   \n",
      "9   https://is1-ssl.mzstatic.com/image/thumb/Music...   \n",
      "10  https://is1-ssl.mzstatic.com/image/thumb/Music...   \n",
      "11  https://is1-ssl.mzstatic.com/image/thumb/Music...   \n",
      "12  https://is1-ssl.mzstatic.com/image/thumb/Music...   \n",
      "13  https://is1-ssl.mzstatic.com/image/thumb/Featu...   \n",
      "14  https://is1-ssl.mzstatic.com/image/thumb/Music...   \n",
      "15  https://is1-ssl.mzstatic.com/image/thumb/Music...   \n",
      "16  https://is1-ssl.mzstatic.com/image/thumb/Music...   \n",
      "17  https://is1-ssl.mzstatic.com/image/thumb/Music...   \n",
      "18  https://is1-ssl.mzstatic.com/image/thumb/Featu...   \n",
      "19  https://is1-ssl.mzstatic.com/image/thumb/Music...   \n",
      "20  https://is1-ssl.mzstatic.com/image/thumb/Music...   \n",
      "21  https://is1-ssl.mzstatic.com/image/thumb/Music...   \n",
      "22  https://is1-ssl.mzstatic.com/image/thumb/Music...   \n",
      "23  https://is1-ssl.mzstatic.com/image/thumb/Music...   \n",
      "24  https://is1-ssl.mzstatic.com/image/thumb/Music...   \n",
      "25  https://is1-ssl.mzstatic.com/image/thumb/Music...   \n",
      "26  https://is1-ssl.mzstatic.com/image/thumb/Music...   \n",
      "27  https://is1-ssl.mzstatic.com/image/thumb/Music...   \n",
      "28  https://is1-ssl.mzstatic.com/image/thumb/Music...   \n",
      "29  https://is1-ssl.mzstatic.com/image/thumb/Music...   \n",
      "\n",
      "                                        artworkUrl100 collectionPrice  \\\n",
      "0                                                 NaN             NaN   \n",
      "1   https://is1-ssl.mzstatic.com/image/thumb/Music...           10.99   \n",
      "2   https://is1-ssl.mzstatic.com/image/thumb/Music...            9.99   \n",
      "3   https://is1-ssl.mzstatic.com/image/thumb/Music...           14.99   \n",
      "4   https://is1-ssl.mzstatic.com/image/thumb/Music...            9.99   \n",
      "5   https://is1-ssl.mzstatic.com/image/thumb/Music...            9.99   \n",
      "6   https://is1-ssl.mzstatic.com/image/thumb/Music...            8.99   \n",
      "7   https://is1-ssl.mzstatic.com/image/thumb/Music...            9.99   \n",
      "8   https://is1-ssl.mzstatic.com/image/thumb/Music...            9.99   \n",
      "9   https://is1-ssl.mzstatic.com/image/thumb/Music...            9.99   \n",
      "10  https://is1-ssl.mzstatic.com/image/thumb/Music...            9.99   \n",
      "11  https://is1-ssl.mzstatic.com/image/thumb/Music...           11.99   \n",
      "12  https://is1-ssl.mzstatic.com/image/thumb/Music...            9.99   \n",
      "13  https://is1-ssl.mzstatic.com/image/thumb/Featu...            9.99   \n",
      "14  https://is1-ssl.mzstatic.com/image/thumb/Music...           39.99   \n",
      "15  https://is1-ssl.mzstatic.com/image/thumb/Music...            6.99   \n",
      "16  https://is1-ssl.mzstatic.com/image/thumb/Music...           12.99   \n",
      "17  https://is1-ssl.mzstatic.com/image/thumb/Music...            9.99   \n",
      "18  https://is1-ssl.mzstatic.com/image/thumb/Featu...           29.99   \n",
      "19  https://is1-ssl.mzstatic.com/image/thumb/Music...            9.99   \n",
      "20  https://is1-ssl.mzstatic.com/image/thumb/Music...            9.99   \n",
      "21  https://is1-ssl.mzstatic.com/image/thumb/Music...            9.99   \n",
      "22  https://is1-ssl.mzstatic.com/image/thumb/Music...            9.99   \n",
      "23  https://is1-ssl.mzstatic.com/image/thumb/Music...           27.99   \n",
      "24  https://is1-ssl.mzstatic.com/image/thumb/Music...           16.99   \n",
      "25  https://is1-ssl.mzstatic.com/image/thumb/Music...            9.99   \n",
      "26  https://is1-ssl.mzstatic.com/image/thumb/Music...            9.99   \n",
      "27  https://is1-ssl.mzstatic.com/image/thumb/Music...            5.99   \n",
      "28  https://is1-ssl.mzstatic.com/image/thumb/Music...            9.99   \n",
      "29  https://is1-ssl.mzstatic.com/image/thumb/Music...            9.99   \n",
      "\n",
      "   collectionExplicitness trackCount  \\\n",
      "0                     NaN        NaN   \n",
      "1             notExplicit       18.0   \n",
      "2             notExplicit       20.0   \n",
      "3             notExplicit       37.0   \n",
      "4             notExplicit       18.0   \n",
      "5             notExplicit       15.0   \n",
      "6             notExplicit       10.0   \n",
      "7             notExplicit       11.0   \n",
      "8             notExplicit       11.0   \n",
      "9             notExplicit       17.0   \n",
      "10            notExplicit       16.0   \n",
      "11            notExplicit       11.0   \n",
      "12            notExplicit       11.0   \n",
      "13            notExplicit       11.0   \n",
      "14            notExplicit       75.0   \n",
      "15            notExplicit       10.0   \n",
      "16            notExplicit       27.0   \n",
      "17            notExplicit       25.0   \n",
      "18            notExplicit       93.0   \n",
      "19            notExplicit       12.0   \n",
      "20            notExplicit       16.0   \n",
      "21            notExplicit       18.0   \n",
      "22            notExplicit       16.0   \n",
      "23            notExplicit       59.0   \n",
      "24            notExplicit       26.0   \n",
      "25            notExplicit       22.0   \n",
      "26            notExplicit       13.0   \n",
      "27            notExplicit       10.0   \n",
      "28            notExplicit       12.0   \n",
      "29            notExplicit       22.0   \n",
      "\n",
      "                                            copyright country  currency  \\\n",
      "0                                                 NaN     NaN       NaN   \n",
      "1   A Geffen Records Release; This Compilation ℗ 1...     USA       USD   \n",
      "2   This Compilation ℗ 2016 The Verve Music Group,...     USA       USD   \n",
      "3   ℗ Recorded Prior To 1972. All Rights Reserved ...     USA       USD   \n",
      "4   ℗ Originally Released 1926, 1927, 1928, 1929, ...     USA       USD   \n",
      "5   A Verve Label Group release; This Compilation ...     USA       USD   \n",
      "6   A Geffen Records Release; This Compilation ℗ 1...     USA       USD   \n",
      "7                         ℗ 2011 UMG Recordings, Inc.     USA       USD   \n",
      "8   This Compilation ℗ 1968 The Verve Music Group,...     USA       USD   \n",
      "9   ℗ 2000 Parlophone Records Ltd, a Warner Music ...     USA       USD   \n",
      "10  ℗ Originally Released 1954 Sony Music Entertai...     USA       USD   \n",
      "11  A Verve Records release; This Compilation ℗ 20...     USA       USD   \n",
      "12  A Verve Label Group Release; This Compilation ...     USA       USD   \n",
      "13                                                NaN     USA       USD   \n",
      "14  A Verve Records release; ℗ 2018 UMG Recordings...     USA       USD   \n",
      "15     ℗ 1996 Buena Vista Pictures Distribution, Inc.     USA       USD   \n",
      "16  ℗ 2000 Roulette Jazz (R) is a registered trade...     USA       USD   \n",
      "17  ℗ Compilation (P) 2000 SONY BMG MUSIC ENTERTAI...     USA       USD   \n",
      "18  ℗ Originally Released 1926, 1927 Courtesy of M...     USA       USD   \n",
      "19       This Compilation ℗ 2008 Capitol Records, LLC     USA       USD   \n",
      "20  ℗ 1985 The Verve Music Group, a Division of UM...     USA       USD   \n",
      "21  ℗ Originally Released 1928, 1929, 1941 SONY BM...     USA       USD   \n",
      "22  ℗ Originally Released 1928, 1929, 1930, 1931, ...     USA       USD   \n",
      "23  A Verve Records release; This Compilation ℗ 20...     USA       USD   \n",
      "24  ℗ Originally Recorded 1956, Originally Release...     USA       USD   \n",
      "25  ℗ Originally Released 1926, 1927, 1928, 1940, ...     USA       USD   \n",
      "26  ℗ Originally Recorded 1955, Originally Release...     USA       USD   \n",
      "27  ℗ Originally Released 1954,1957,1959,1967,1982...     USA       USD   \n",
      "28               ℗ 1991 Sony Music Entertainment Inc.     USA       USD   \n",
      "29  ℗ Originally Released 1928, 1929, 1940, (P) 20...     USA       USD   \n",
      "\n",
      "             releaseDate  \n",
      "0                    NaN  \n",
      "1   1994-01-01T08:00:00Z  \n",
      "2   2016-11-25T08:00:00Z  \n",
      "3   1979-12-28T08:00:00Z  \n",
      "4   2002-07-30T07:00:00Z  \n",
      "5   1997-08-20T07:00:00Z  \n",
      "6   1999-03-16T08:00:00Z  \n",
      "7   1956-10-01T08:00:00Z  \n",
      "8   1968-01-01T08:00:00Z  \n",
      "9   2001-01-08T08:00:00Z  \n",
      "10  1997-03-03T08:00:00Z  \n",
      "11  2022-10-28T07:00:00Z  \n",
      "12  2005-06-06T07:00:00Z  \n",
      "13  2012-04-24T07:00:00Z  \n",
      "14  2018-04-06T07:00:00Z  \n",
      "15  1996-01-01T08:00:00Z  \n",
      "16  2000-07-06T07:00:00Z  \n",
      "17  2000-11-03T08:00:00Z  \n",
      "18  2006-09-19T07:00:00Z  \n",
      "19  2008-01-01T08:00:00Z  \n",
      "20  1957-10-14T08:00:00Z  \n",
      "21  1989-08-18T07:00:00Z  \n",
      "22  2002-07-26T07:00:00Z  \n",
      "23  2000-07-25T07:00:00Z  \n",
      "24  1997-04-29T07:00:00Z  \n",
      "25  2003-04-11T07:00:00Z  \n",
      "26  2000-06-07T07:00:00Z  \n",
      "27  2000-01-07T08:00:00Z  \n",
      "28  1991-10-11T07:00:00Z  \n",
      "29  2003-04-11T07:00:00Z  \n",
      "\n",
      "[30 rows x 23 columns]\n"
     ]
    }
   ],
   "source": [
    "# Ваш код здесь\n",
    "# Ваш код здесь\n",
    "df1 = pd.DataFrame(data1['results'])\n",
    "print(df1)\n",
    "df1.to_excel(path + '30_albums.xlsx', sheet_name='albums')"
   ]
  },
  {
   "cell_type": "markdown",
   "metadata": {
    "id": "OQQmF0xoiljN"
   },
   "source": [
    "Для удобства переиспользования путь к папке с данными удобно вынести в отдельную переменную. Оставьте текущий путь в `path` или пропишите полный путь от директории, в которой запущен Jupyter Notebook."
   ]
  },
  {
   "cell_type": "code",
   "execution_count": 10,
   "metadata": {
    "id": "5B1BAWrSiIfi"
   },
   "outputs": [],
   "source": [
    "path = 'C:/Users/Hp/ds-intro/13_api/homework/'"
   ]
  },
  {
   "cell_type": "markdown",
   "metadata": {
    "id": "OSFeJcPbQVla"
   },
   "source": [
    "3. Создайте датафрейм `df2` на основе списка `data2` и распечатайте его, а затем запишите его в файл `70_albums.csv` в директории проекта `13_api/homework/data`, указав в качестве разделителя знак табуляции."
   ]
  },
  {
   "cell_type": "code",
   "execution_count": 11,
   "metadata": {
    "id": "zOiTPTSBQVla"
   },
   "outputs": [
    {
     "name": "stdout",
     "output_type": "stream",
     "text": [
      "   wrapperType collectionType  artistId  collectionId  amgArtistId  \\\n",
      "0   collection          Album    518462     270473182      52456.0   \n",
      "1   collection          Album     73568    1445098984       6503.0   \n",
      "2   collection          Album    518462     158673207      52456.0   \n",
      "3   collection          Album    518462     193043791      52456.0   \n",
      "4   collection          Album    518462    1445962080      52456.0   \n",
      "..         ...            ...       ...           ...          ...   \n",
      "66  collection          Album    518462    1466892492      52456.0   \n",
      "67  collection          Album    518462     159085964      52456.0   \n",
      "68  collection          Album    518462    1444070460      52456.0   \n",
      "69  collection          Album    518462    1444041274      52456.0   \n",
      "70  collection          Album    518462    1438461176      52456.0   \n",
      "\n",
      "                           artistName  \\\n",
      "0                     Louis Armstrong   \n",
      "1   Ella Fitzgerald & Louis Armstrong   \n",
      "2                     Louis Armstrong   \n",
      "3                     Louis Armstrong   \n",
      "4                     Louis Armstrong   \n",
      "..                                ...   \n",
      "66                    Louis Armstrong   \n",
      "67                    Louis Armstrong   \n",
      "68                    Louis Armstrong   \n",
      "69                    Louis Armstrong   \n",
      "70                    Louis Armstrong   \n",
      "\n",
      "                                       collectionName  \\\n",
      "0   Louis Armstrong: Complete RCA Victor Recording...   \n",
      "1   20th Century Masters / The Millennium Collecti...   \n",
      "2            Louis Armstrong: 16 Most Requested Songs   \n",
      "3            The Hot Fives and Hot Sevens, Volume III   \n",
      "4                           The Definitive Collection   \n",
      "..                                                ...   \n",
      "66      Ain't Gonna Give Nobody None of My Jelly Roll   \n",
      "67                                   Jazz Moods - Hot   \n",
      "68                              Mack the Knife (Live)   \n",
      "69  Louis Armstrong & His Orchestra, Vol. 3 (Pocke...   \n",
      "70                                      Satchmo Sings   \n",
      "\n",
      "                               collectionCensoredName  \\\n",
      "0   Louis Armstrong: Complete RCA Victor Recording...   \n",
      "1   20th Century Masters / The Millennium Collecti...   \n",
      "2            Louis Armstrong: 16 Most Requested Songs   \n",
      "3            The Hot Fives and Hot Sevens, Volume III   \n",
      "4                           The Definitive Collection   \n",
      "..                                                ...   \n",
      "66      Ain't Gonna Give Nobody None of My Jelly Roll   \n",
      "67                                   Jazz Moods - Hot   \n",
      "68                              Mack the Knife (Live)   \n",
      "69  Louis Armstrong & His Orchestra, Vol. 3 (Pocke...   \n",
      "70                                      Satchmo Sings   \n",
      "\n",
      "                                        artistViewUrl  \\\n",
      "0   https://music.apple.com/us/artist/louis-armstr...   \n",
      "1   https://music.apple.com/us/artist/ella-fitzger...   \n",
      "2   https://music.apple.com/us/artist/louis-armstr...   \n",
      "3   https://music.apple.com/us/artist/louis-armstr...   \n",
      "4   https://music.apple.com/us/artist/louis-armstr...   \n",
      "..                                                ...   \n",
      "66  https://music.apple.com/us/artist/louis-armstr...   \n",
      "67  https://music.apple.com/us/artist/louis-armstr...   \n",
      "68  https://music.apple.com/us/artist/louis-armstr...   \n",
      "69  https://music.apple.com/us/artist/louis-armstr...   \n",
      "70  https://music.apple.com/us/artist/louis-armstr...   \n",
      "\n",
      "                                    collectionViewUrl  \\\n",
      "0   https://music.apple.com/us/album/louis-armstro...   \n",
      "1   https://music.apple.com/us/album/20th-century-...   \n",
      "2   https://music.apple.com/us/album/louis-armstro...   \n",
      "3   https://music.apple.com/us/album/the-hot-fives...   \n",
      "4   https://music.apple.com/us/album/the-definitiv...   \n",
      "..                                                ...   \n",
      "66  https://music.apple.com/us/album/aint-gonna-gi...   \n",
      "67  https://music.apple.com/us/album/jazz-moods-ho...   \n",
      "68  https://music.apple.com/us/album/mack-the-knif...   \n",
      "69  https://music.apple.com/us/album/louis-armstro...   \n",
      "70  https://music.apple.com/us/album/satchmo-sings...   \n",
      "\n",
      "                                         artworkUrl60  \\\n",
      "0   https://is1-ssl.mzstatic.com/image/thumb/Music...   \n",
      "1   https://is1-ssl.mzstatic.com/image/thumb/Music...   \n",
      "2   https://is1-ssl.mzstatic.com/image/thumb/Music...   \n",
      "3   https://is1-ssl.mzstatic.com/image/thumb/Music...   \n",
      "4   https://is1-ssl.mzstatic.com/image/thumb/Music...   \n",
      "..                                                ...   \n",
      "66  https://is1-ssl.mzstatic.com/image/thumb/Music...   \n",
      "67  https://is1-ssl.mzstatic.com/image/thumb/Music...   \n",
      "68  https://is1-ssl.mzstatic.com/image/thumb/Music...   \n",
      "69  https://is1-ssl.mzstatic.com/image/thumb/Music...   \n",
      "70  https://is1-ssl.mzstatic.com/image/thumb/Music...   \n",
      "\n",
      "                                        artworkUrl100  collectionPrice  \\\n",
      "0   https://is1-ssl.mzstatic.com/image/thumb/Music...            -1.00   \n",
      "1   https://is1-ssl.mzstatic.com/image/thumb/Music...             7.99   \n",
      "2   https://is1-ssl.mzstatic.com/image/thumb/Music...             9.99   \n",
      "3   https://is1-ssl.mzstatic.com/image/thumb/Music...             9.99   \n",
      "4   https://is1-ssl.mzstatic.com/image/thumb/Music...            12.99   \n",
      "..                                                ...              ...   \n",
      "66  https://is1-ssl.mzstatic.com/image/thumb/Music...             9.99   \n",
      "67  https://is1-ssl.mzstatic.com/image/thumb/Music...             9.99   \n",
      "68  https://is1-ssl.mzstatic.com/image/thumb/Music...             9.99   \n",
      "69  https://is1-ssl.mzstatic.com/image/thumb/Music...            12.99   \n",
      "70  https://is1-ssl.mzstatic.com/image/thumb/Music...             9.99   \n",
      "\n",
      "   collectionExplicitness  trackCount  \\\n",
      "0             notExplicit          75   \n",
      "1             notExplicit          10   \n",
      "2             notExplicit          16   \n",
      "3             notExplicit          16   \n",
      "4             notExplicit          23   \n",
      "..                    ...         ...   \n",
      "66            notExplicit          12   \n",
      "67            notExplicit          14   \n",
      "68            notExplicit          11   \n",
      "69            notExplicit          22   \n",
      "70            notExplicit          12   \n",
      "\n",
      "                                            copyright country currency  \\\n",
      "0                            ℗ 1997 BMG Entertainment     USA      USD   \n",
      "1   A Verve Label Group Release; This Compilation ...     USA      USD   \n",
      "2                ℗ 1994 Sony Music Entertainment Inc.     USA      USD   \n",
      "3                             ℗ 1989 CBS RECORDS INC.     USA      USD   \n",
      "4   A Universal Music Enterprises Release; This Co...     USA      USD   \n",
      "..                                                ...     ...      ...   \n",
      "66  ℗ 1964 © Audio Fidelity™ a division of 43 Nort...     USA      USD   \n",
      "67  ℗ Originally Released 1926, 1927, 1928, 1929, ...     USA      USD   \n",
      "68                               ℗ 1957 Pablo Records     USA      USD   \n",
      "69       This Compilation ℗ 1995 UMG Recordings, Inc.     USA      USD   \n",
      "70  A Verve Label Group Release; This Compilation ...     USA      USD   \n",
      "\n",
      "             releaseDate primaryGenreName  \n",
      "0   1990-01-01T08:00:00Z             Jazz  \n",
      "1   2007-06-12T07:00:00Z             Jazz  \n",
      "2   1994-05-27T07:00:00Z             Jazz  \n",
      "3   1989-03-24T08:00:00Z             Jazz  \n",
      "4   2006-01-24T08:00:00Z             Jazz  \n",
      "..                   ...              ...  \n",
      "66  1964-05-01T07:00:00Z        Dixieland  \n",
      "67  2005-04-04T07:00:00Z             Jazz  \n",
      "68  1957-01-01T08:00:00Z             Jazz  \n",
      "69  1995-01-01T08:00:00Z             Jazz  \n",
      "70  1955-01-01T08:00:00Z             Jazz  \n",
      "\n",
      "[71 rows x 20 columns]\n"
     ]
    }
   ],
   "source": [
    "# Ваш код здесь\n",
    "df2 = pd.DataFrame(data2['results']) \n",
    "print(df2)\n",
    "df2.to_csv(path + '70_albums.csv', sep='\\t')"
   ]
  },
  {
   "cell_type": "markdown",
   "metadata": {
    "ExecuteTime": {
     "end_time": "2021-11-16T21:41:34.123026Z",
     "start_time": "2021-11-16T21:41:34.115383Z"
    },
    "id": "GJ0l759lQVla"
   },
   "source": [
    "***Задача 5***\n",
    "\n",
    "Пришло время сохранить наши изменения в GitLab.\n",
    "\n",
    "1. Добавьте сделанные в папке проекта изменения с помощью `git add`.\n",
    "\n",
    "2. Если у вас в добавленных файлах появились файлы настроек, не забудьте добавить их в файл `.gitignore`, чтобы репозиторий содержал только релевантные файлы (подробнее о том, как правильно добавлять файлы в `.gitignore` можно узнать по ссылке в блоке [Запись изменений в репозиторий: Игнорирование файлов](https://git-scm.com/book/ru/v2/%D0%9E%D1%81%D0%BD%D0%BE%D0%B2%D1%8B-Git-%D0%97%D0%B0%D0%BF%D0%B8%D1%81%D1%8C-%D0%B8%D0%B7%D0%BC%D0%B5%D0%BD%D0%B5%D0%BD%D0%B8%D0%B9-%D0%B2-%D1%80%D0%B5%D0%BF%D0%BE%D0%B7%D0%B8%D1%82%D0%BE%D1%80%D0%B8%D0%B9)).\n",
    "\n",
    "3. Сохраните состояние проекта с помощью `git commit`, дайте тексту коммита осмысленное название.\n",
    "\n",
    "4. Отправьте изменения на сервер GitLab с помощью `git push` в текущую ветку `homework_13`.\n",
    "\n",
    "5. Зайдите в GitLab Skillbox и сделайте Merge Request включения текущей ветки в главную ветку `master`, указав в качестве адресата своего проверяющего преподавателя. Текущую ветку не удаляйте, она потребуется для проверки.\n",
    "\n",
    "_Напоминание:_ Не забудьте сохранить свои изменения в GitLab и после выполнения дополнительных задач 6 и 7."
   ]
  },
  {
   "cell_type": "markdown",
   "metadata": {
    "id": "RIjvWCodQVlb"
   },
   "source": [
    "**Дополнительные задачи**"
   ]
  },
  {
   "cell_type": "markdown",
   "metadata": {
    "ExecuteTime": {
     "end_time": "2021-11-16T21:53:05.361052Z",
     "start_time": "2021-11-16T21:53:05.353283Z"
    },
    "id": "PzWuGyyYQVlb"
   },
   "source": [
    "***Задача 6***\n",
    "\n",
    "Для ответа на вопрос **Задачи 3** напишите код, результат которого наглядно показывает отличие некоторых записей от остальных."
   ]
  },
  {
   "cell_type": "markdown",
   "metadata": {
    "id": "-_jnyAGtXP2U"
   },
   "source": []
  },
  {
   "cell_type": "code",
   "execution_count": null,
   "metadata": {
    "id": "j5NP6MusQVlb"
   },
   "outputs": [],
   "source": [
    "# Ваш код здесь"
   ]
  },
  {
   "cell_type": "markdown",
   "metadata": {
    "id": "7kLcc_RZbKbh"
   },
   "source": [
    "**Задача 7**\n",
    "\n",
    "Попробуйте сформировать запросы к [iTunes Search API](https://affiliate.itunes.apple.com/resources/documentation/itunes-store-web-service-search-api/) таким образом, чтобы получить статусы ответов, отличные от 200. Например, 400 и 404. Распечатайте коды статусов для каждого запроса.\n",
    "\n",
    "_Подсказка:_ воспользуйтесь [шпаргалкой по кодам ответа HTTP](https://developer.mozilla.org/ru/docs/Web/HTTP/Status), чтобы понять, как следует изменить запрос, чтобы сервер вернул определённую ошибку в ответе.\n"
   ]
  },
  {
   "cell_type": "code",
   "execution_count": null,
   "metadata": {
    "id": "aZgIKhLObI-k"
   },
   "outputs": [],
   "source": [
    "# Ваш код здесь"
   ]
  },
  {
   "cell_type": "markdown",
   "metadata": {
    "id": "v_D1TQYfQVlc"
   },
   "source": [
    "***Задача 8***\n",
    "\n",
    "Загрузите результат выполнения практического задания после урока 5 в GitLab проекта в директорию `13_api/practice`.\n",
    "\n",
    "Для этого создайте ветку `practice_13`, скопируйте файлы практического задания в проект, загрузите изменения в созданную ветку в GitLab, а затем создайте MergeRequest без указания проверяющего и сами же примите собственный запрос."
   ]
  }
 ],
 "metadata": {
  "colab": {
   "collapsed_sections": [],
   "name": "13.9 Практическая работа.ipynb",
   "provenance": []
  },
  "kernelspec": {
   "display_name": "Python 3 (ipykernel)",
   "language": "python",
   "name": "python3"
  },
  "language_info": {
   "codemirror_mode": {
    "name": "ipython",
    "version": 3
   },
   "file_extension": ".py",
   "mimetype": "text/x-python",
   "name": "python",
   "nbconvert_exporter": "python",
   "pygments_lexer": "ipython3",
   "version": "3.11.5"
  },
  "toc": {
   "base_numbering": 1,
   "nav_menu": {},
   "number_sections": true,
   "sideBar": true,
   "skip_h1_title": false,
   "title_cell": "Table of Contents",
   "title_sidebar": "Contents",
   "toc_cell": false,
   "toc_position": {},
   "toc_section_display": true,
   "toc_window_display": false
  }
 },
 "nbformat": 4,
 "nbformat_minor": 1
}
